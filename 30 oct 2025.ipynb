{
 "cells": [
  {
   "cell_type": "code",
   "execution_count": 1,
   "id": "720a5f39-93b9-4f7e-8163-1c61f854d7fa",
   "metadata": {},
   "outputs": [],
   "source": [
    "# 02\n",
    "import pandas as pd"
   ]
  },
  {
   "cell_type": "code",
   "execution_count": 3,
   "id": "2a6759a6-a846-4447-9193-87be17513ef7",
   "metadata": {},
   "outputs": [
    {
     "name": "stdout",
     "output_type": "stream",
     "text": [
      "   Transaction_ID  Customer_ID Transaction_Date Transaction_Type Merchant  \\\n",
      "0          100000         4452       2023-01-01           Online  Walmart   \n",
      "1          100001         2775       2023-01-01              ATM  BestBuy   \n",
      "2          100002         2259       2023-01-01   Mobile Payment     Uber   \n",
      "3          100003         4545       2023-01-01           Online  BestBuy   \n",
      "4          100004         2137       2023-01-01              ATM   Amazon   \n",
      "\n",
      "   Category   Amount Payment_Mode Transaction_Status       Location  \n",
      "0    Travel  4520.70   Debit Card           Approved      Jonesport  \n",
      "1    Travel  1437.85   Debit Card           Approved  Port Jennifer  \n",
      "2  Clothing  3320.52       PayPal           Approved     Port James  \n",
      "3    Travel  2659.96   Debit Card           Approved     Hawkinston  \n",
      "4    Travel  2517.07   Debit Card           Approved    Matthewland  \n"
     ]
    }
   ],
   "source": [
    "data = pd.read_csv('https://raw.githubusercontent.com/Pankaj-Str/Complete-Python-Mastery/refs/heads/main/00%20Lecture/lecture14/29%20Oct%202025/credit_card_transactions.csv')\n",
    "print(data.head())"
   ]
  },
  {
   "cell_type": "code",
   "execution_count": 4,
   "id": "855c9aa2-1bfb-4b8a-b3ce-641943a0dd5d",
   "metadata": {},
   "outputs": [
    {
     "name": "stdout",
     "output_type": "stream",
     "text": [
      "{'Name': ['Tushar', 'vaibhav', 'tisha', 'kavya', 'Deep', 'sushant'], 'Age': [22, 21, 20, 22, 23, 24], 'City': ['Mumbai', ' Goa', 'Gujrat', 'Tamil nadu', 'Delhi', 'Hydrebad']}\n"
     ]
    }
   ],
   "source": [
    "# adding and modify data\n",
    "\n",
    "data1 = {\n",
    "        'Name':['Tushar', 'vaibhav', 'tisha', 'kavya','Deep','sushant'],\n",
    "        'Age':[22,21,20,22,23,24],\n",
    "        'City':['Mumbai',' Goa', 'Gujrat', 'Tamil nadu', 'Delhi', 'Hydrebad']\n",
    "}\n",
    "print(data1)"
   ]
  },
  {
   "cell_type": "code",
   "execution_count": 19,
   "id": "60819ba1-ab9d-46da-978a-45aace4f513a",
   "metadata": {},
   "outputs": [
    {
     "data": {
      "text/html": [
       "<div>\n",
       "<style scoped>\n",
       "    .dataframe tbody tr th:only-of-type {\n",
       "        vertical-align: middle;\n",
       "    }\n",
       "\n",
       "    .dataframe tbody tr th {\n",
       "        vertical-align: top;\n",
       "    }\n",
       "\n",
       "    .dataframe thead th {\n",
       "        text-align: right;\n",
       "    }\n",
       "</style>\n",
       "<table border=\"1\" class=\"dataframe\">\n",
       "  <thead>\n",
       "    <tr style=\"text-align: right;\">\n",
       "      <th></th>\n",
       "      <th>Name</th>\n",
       "      <th>Age</th>\n",
       "      <th>City</th>\n",
       "    </tr>\n",
       "  </thead>\n",
       "  <tbody>\n",
       "    <tr>\n",
       "      <th>0</th>\n",
       "      <td>Tushar</td>\n",
       "      <td>22</td>\n",
       "      <td>Mumbai</td>\n",
       "    </tr>\n",
       "    <tr>\n",
       "      <th>1</th>\n",
       "      <td>vaibhav</td>\n",
       "      <td>21</td>\n",
       "      <td>Goa</td>\n",
       "    </tr>\n",
       "    <tr>\n",
       "      <th>2</th>\n",
       "      <td>tisha</td>\n",
       "      <td>20</td>\n",
       "      <td>Gujrat</td>\n",
       "    </tr>\n",
       "    <tr>\n",
       "      <th>3</th>\n",
       "      <td>kavya</td>\n",
       "      <td>22</td>\n",
       "      <td>Tamil nadu</td>\n",
       "    </tr>\n",
       "    <tr>\n",
       "      <th>4</th>\n",
       "      <td>Deep</td>\n",
       "      <td>23</td>\n",
       "      <td>Delhi</td>\n",
       "    </tr>\n",
       "    <tr>\n",
       "      <th>5</th>\n",
       "      <td>sushant</td>\n",
       "      <td>24</td>\n",
       "      <td>Hydrebad</td>\n",
       "    </tr>\n",
       "  </tbody>\n",
       "</table>\n",
       "</div>"
      ],
      "text/plain": [
       "      Name  Age        City\n",
       "0   Tushar   22      Mumbai\n",
       "1  vaibhav   21         Goa\n",
       "2    tisha   20      Gujrat\n",
       "3    kavya   22  Tamil nadu\n",
       "4     Deep   23       Delhi\n",
       "5  sushant   24    Hydrebad"
      ]
     },
     "execution_count": 19,
     "metadata": {},
     "output_type": "execute_result"
    }
   ],
   "source": [
    "df = pd.DataFrame(data1)\n",
    "df"
   ]
  },
  {
   "cell_type": "code",
   "execution_count": 20,
   "id": "15eede9e-80a4-496a-8b3e-f96e80b920c9",
   "metadata": {},
   "outputs": [
    {
     "name": "stdout",
     "output_type": "stream",
     "text": [
      "      Name  Age        City  salary\n",
      "0   Tushar   22      Mumbai    5000\n",
      "1  vaibhav   21         Goa    1000\n",
      "2    tisha   20      Gujrat    2000\n",
      "3    kavya   22  Tamil nadu    3000\n",
      "4     Deep   23       Delhi    4500\n",
      "5  sushant   24    Hydrebad    1500\n"
     ]
    }
   ],
   "source": [
    "# add new column salary\n",
    "\n",
    "df['salary'] = [5000,1000,2000,3000,4500,1500]\n",
    "print(df)"
   ]
  },
  {
   "cell_type": "code",
   "execution_count": 17,
   "id": "be21f52c-1af4-40fa-9527-2d9703a076de",
   "metadata": {},
   "outputs": [
    {
     "name": "stdout",
     "output_type": "stream",
     "text": [
      "      Name  Age        City  salary\n",
      "0   Tushar   28      Mumbai    5000\n",
      "1  vaibhav   27         Goa    1000\n",
      "2    tisha   26      Gujrat    2000\n",
      "3    kavya   28  Tamil nadu    3000\n",
      "4     Deep   29       Delhi    4500\n",
      "5  sushant   30    Hydrebad    1500\n",
      "6      Roy   30     Haryana    2500\n",
      "7      Roy   30     Haryana    2500\n",
      "8      Roy   28     Haryana    2500\n"
     ]
    }
   ],
   "source": [
    "# modify exixting column # age + 2\n",
    "\n",
    "df['Age'] = df['Age'] +2      #(age 22 + 2 = 24)\n",
    "print(df)"
   ]
  },
  {
   "cell_type": "code",
   "execution_count": 24,
   "id": "71da8054-cfbd-493d-882d-4c4318c8d521",
   "metadata": {},
   "outputs": [
    {
     "name": "stdout",
     "output_type": "stream",
     "text": [
      "      Name  Age        City  salary\n",
      "0   Tushar   22      Mumbai  5000.0\n",
      "1  vaibhav   21         Goa  1000.0\n",
      "2    tisha   20      Gujrat  2000.0\n",
      "3    kavya   22  Tamil nadu  3000.0\n",
      "4     Deep   23       Delhi  4500.0\n",
      "5  sushant   24    Hydrebad  1500.0\n",
      "6     None   26     Haryana     NaN\n",
      "7     None   26     Haryana     NaN\n",
      "8     None   26     Haryana     NaN\n"
     ]
    }
   ],
   "source": [
    "# add new row\n",
    "import numpy as np\n",
    "new_row1 = {'Name':'None', 'Age':26, 'City': 'Haryana', 'salary': np.nan}\n",
    "row1 = pd.DataFrame([new_row1])         # add row in list\n",
    "df = pd.concat([df, row1],  ignore_index = True)\n",
    "print(df)"
   ]
  },
  {
   "cell_type": "code",
   "execution_count": 25,
   "id": "457339e3-33da-4dba-9278-48302dfd9a16",
   "metadata": {},
   "outputs": [
    {
     "data": {
      "text/plain": [
       "Name      0\n",
       "Age       0\n",
       "City      0\n",
       "salary    3\n",
       "dtype: int64"
      ]
     },
     "execution_count": 25,
     "metadata": {},
     "output_type": "execute_result"
    }
   ],
   "source": [
    "#handling missingh data\n",
    "\n",
    "# 1 identify null values\n",
    "df.isnull().sum()"
   ]
  },
  {
   "cell_type": "code",
   "execution_count": 29,
   "id": "be0fabca-0af5-47eb-82f2-c4569e429b8a",
   "metadata": {},
   "outputs": [
    {
     "name": "stdout",
     "output_type": "stream",
     "text": [
      "      Name  Age        City  salary\n",
      "0   Tushar   22      Mumbai  5000.0\n",
      "1  vaibhav   21         Goa  1000.0\n",
      "2    tisha   20      Gujrat  2000.0\n",
      "3    kavya   22  Tamil nadu  3000.0\n",
      "4     Deep   23       Delhi  4500.0\n",
      "5  sushant   24    Hydrebad  1500.0\n"
     ]
    }
   ],
   "source": [
    "# delete row \n",
    "df = df.dropna()\n",
    "print(df)"
   ]
  },
  {
   "cell_type": "code",
   "execution_count": 31,
   "id": "4796ecba-014a-45f8-9cec-6a7c6bb1ef24",
   "metadata": {},
   "outputs": [
    {
     "data": {
      "text/plain": [
       "Name      0\n",
       "Age       0\n",
       "City      0\n",
       "salary    0\n",
       "dtype: int64"
      ]
     },
     "execution_count": 31,
     "metadata": {},
     "output_type": "execute_result"
    }
   ],
   "source": [
    "df.isnull().sum()"
   ]
  },
  {
   "cell_type": "code",
   "execution_count": 66,
   "id": "de30470b-96d6-46b2-a08b-5f48148f6999",
   "metadata": {},
   "outputs": [
    {
     "name": "stdout",
     "output_type": "stream",
     "text": [
      "       Name  Age        City  salary\n",
      "0    Tushar   22      Mumbai  5000.0\n",
      "1   vaibhav   21         Goa  1000.0\n",
      "2     tisha   20      Gujrat  2000.0\n",
      "3     kavya   22  Tamil nadu  3000.0\n",
      "4      Deep   23       Delhi  4500.0\n",
      "5   sushant   24    Hydrebad  1500.0\n",
      "6      None   26    pakistan     0.0\n",
      "7      None   26    pakistan     0.0\n",
      "8      None   26    pakistan     0.0\n",
      "9      None   26    pakistan     0.0\n",
      "10     None   26    pakistan   100.0\n",
      "11     None   26    pakistan   100.0\n",
      "12     None   26    pakistan   100.0\n",
      "13  kalluwa   26    pakistan   100.0\n",
      "14     None   26    pakistan     NaN\n"
     ]
    }
   ],
   "source": [
    "# how to add values in nan=data\n",
    "new_row1 = {'Name':None, 'Age':26, 'City': 'pakistan', 'salary': np.nan}\n",
    "row1 = pd.DataFrame([new_row1])         # add row in list\n",
    "df = pd.concat([df, row1],  ignore_index = True)\n",
    "print(df)"
   ]
  },
  {
   "cell_type": "code",
   "execution_count": 67,
   "id": "d8fcff83-37ca-47ce-89e1-fe64916a41d8",
   "metadata": {},
   "outputs": [
    {
     "name": "stdout",
     "output_type": "stream",
     "text": [
      "       Name  Age        City  salary\n",
      "0    Tushar   22      Mumbai  5000.0\n",
      "1   vaibhav   21         Goa  1000.0\n",
      "2     tisha   20      Gujrat  2000.0\n",
      "3     kavya   22  Tamil nadu  3000.0\n",
      "4      Deep   23       Delhi  4500.0\n",
      "5   sushant   24    Hydrebad  1500.0\n",
      "6      None   26    pakistan     0.0\n",
      "7      None   26    pakistan     0.0\n",
      "8      None   26    pakistan     0.0\n",
      "9      None   26    pakistan     0.0\n",
      "10     None   26    pakistan   100.0\n",
      "11     None   26    pakistan   100.0\n",
      "12     None   26    pakistan   100.0\n",
      "13  kalluwa   26    pakistan   100.0\n",
      "14     None   26    pakistan     NaN\n"
     ]
    }
   ],
   "source": [
    "# fill value\n",
    "df['Age'].fillna(df['Age'].mean())\n",
    "print(df)"
   ]
  },
  {
   "cell_type": "code",
   "execution_count": 68,
   "id": "84ca6f8f-1b1b-4eee-9652-8ed1e4a6313f",
   "metadata": {},
   "outputs": [
    {
     "data": {
      "text/html": [
       "<div>\n",
       "<style scoped>\n",
       "    .dataframe tbody tr th:only-of-type {\n",
       "        vertical-align: middle;\n",
       "    }\n",
       "\n",
       "    .dataframe tbody tr th {\n",
       "        vertical-align: top;\n",
       "    }\n",
       "\n",
       "    .dataframe thead th {\n",
       "        text-align: right;\n",
       "    }\n",
       "</style>\n",
       "<table border=\"1\" class=\"dataframe\">\n",
       "  <thead>\n",
       "    <tr style=\"text-align: right;\">\n",
       "      <th></th>\n",
       "      <th>Name</th>\n",
       "      <th>Age</th>\n",
       "      <th>City</th>\n",
       "      <th>salary</th>\n",
       "    </tr>\n",
       "  </thead>\n",
       "  <tbody>\n",
       "    <tr>\n",
       "      <th>0</th>\n",
       "      <td>Tushar</td>\n",
       "      <td>22</td>\n",
       "      <td>Mumbai</td>\n",
       "      <td>5000.0</td>\n",
       "    </tr>\n",
       "    <tr>\n",
       "      <th>1</th>\n",
       "      <td>vaibhav</td>\n",
       "      <td>21</td>\n",
       "      <td>Goa</td>\n",
       "      <td>1000.0</td>\n",
       "    </tr>\n",
       "    <tr>\n",
       "      <th>2</th>\n",
       "      <td>tisha</td>\n",
       "      <td>20</td>\n",
       "      <td>Gujrat</td>\n",
       "      <td>2000.0</td>\n",
       "    </tr>\n",
       "    <tr>\n",
       "      <th>3</th>\n",
       "      <td>kavya</td>\n",
       "      <td>22</td>\n",
       "      <td>Tamil nadu</td>\n",
       "      <td>3000.0</td>\n",
       "    </tr>\n",
       "    <tr>\n",
       "      <th>4</th>\n",
       "      <td>Deep</td>\n",
       "      <td>23</td>\n",
       "      <td>Delhi</td>\n",
       "      <td>4500.0</td>\n",
       "    </tr>\n",
       "    <tr>\n",
       "      <th>5</th>\n",
       "      <td>sushant</td>\n",
       "      <td>24</td>\n",
       "      <td>Hydrebad</td>\n",
       "      <td>1500.0</td>\n",
       "    </tr>\n",
       "    <tr>\n",
       "      <th>6</th>\n",
       "      <td>None</td>\n",
       "      <td>26</td>\n",
       "      <td>pakistan</td>\n",
       "      <td>0.0</td>\n",
       "    </tr>\n",
       "    <tr>\n",
       "      <th>7</th>\n",
       "      <td>None</td>\n",
       "      <td>26</td>\n",
       "      <td>pakistan</td>\n",
       "      <td>0.0</td>\n",
       "    </tr>\n",
       "    <tr>\n",
       "      <th>8</th>\n",
       "      <td>None</td>\n",
       "      <td>26</td>\n",
       "      <td>pakistan</td>\n",
       "      <td>0.0</td>\n",
       "    </tr>\n",
       "    <tr>\n",
       "      <th>9</th>\n",
       "      <td>None</td>\n",
       "      <td>26</td>\n",
       "      <td>pakistan</td>\n",
       "      <td>0.0</td>\n",
       "    </tr>\n",
       "    <tr>\n",
       "      <th>10</th>\n",
       "      <td>None</td>\n",
       "      <td>26</td>\n",
       "      <td>pakistan</td>\n",
       "      <td>100.0</td>\n",
       "    </tr>\n",
       "    <tr>\n",
       "      <th>11</th>\n",
       "      <td>None</td>\n",
       "      <td>26</td>\n",
       "      <td>pakistan</td>\n",
       "      <td>100.0</td>\n",
       "    </tr>\n",
       "    <tr>\n",
       "      <th>12</th>\n",
       "      <td>None</td>\n",
       "      <td>26</td>\n",
       "      <td>pakistan</td>\n",
       "      <td>100.0</td>\n",
       "    </tr>\n",
       "    <tr>\n",
       "      <th>13</th>\n",
       "      <td>kalluwa</td>\n",
       "      <td>26</td>\n",
       "      <td>pakistan</td>\n",
       "      <td>100.0</td>\n",
       "    </tr>\n",
       "    <tr>\n",
       "      <th>14</th>\n",
       "      <td>None</td>\n",
       "      <td>26</td>\n",
       "      <td>pakistan</td>\n",
       "      <td>100.0</td>\n",
       "    </tr>\n",
       "  </tbody>\n",
       "</table>\n",
       "</div>"
      ],
      "text/plain": [
       "       Name  Age        City  salary\n",
       "0    Tushar   22      Mumbai  5000.0\n",
       "1   vaibhav   21         Goa  1000.0\n",
       "2     tisha   20      Gujrat  2000.0\n",
       "3     kavya   22  Tamil nadu  3000.0\n",
       "4      Deep   23       Delhi  4500.0\n",
       "5   sushant   24    Hydrebad  1500.0\n",
       "6      None   26    pakistan     0.0\n",
       "7      None   26    pakistan     0.0\n",
       "8      None   26    pakistan     0.0\n",
       "9      None   26    pakistan     0.0\n",
       "10     None   26    pakistan   100.0\n",
       "11     None   26    pakistan   100.0\n",
       "12     None   26    pakistan   100.0\n",
       "13  kalluwa   26    pakistan   100.0\n",
       "14     None   26    pakistan   100.0"
      ]
     },
     "execution_count": 68,
     "metadata": {},
     "output_type": "execute_result"
    }
   ],
   "source": [
    "df['salary'] = df['salary'].fillna(100)\n",
    "df"
   ]
  },
  {
   "cell_type": "code",
   "execution_count": 69,
   "id": "730c1dae-a278-4ea0-b0c4-87f8a965299c",
   "metadata": {},
   "outputs": [
    {
     "data": {
      "text/html": [
       "<div>\n",
       "<style scoped>\n",
       "    .dataframe tbody tr th:only-of-type {\n",
       "        vertical-align: middle;\n",
       "    }\n",
       "\n",
       "    .dataframe tbody tr th {\n",
       "        vertical-align: top;\n",
       "    }\n",
       "\n",
       "    .dataframe thead th {\n",
       "        text-align: right;\n",
       "    }\n",
       "</style>\n",
       "<table border=\"1\" class=\"dataframe\">\n",
       "  <thead>\n",
       "    <tr style=\"text-align: right;\">\n",
       "      <th></th>\n",
       "      <th>Name</th>\n",
       "      <th>Age</th>\n",
       "      <th>City</th>\n",
       "      <th>salary</th>\n",
       "    </tr>\n",
       "  </thead>\n",
       "  <tbody>\n",
       "    <tr>\n",
       "      <th>0</th>\n",
       "      <td>Tushar</td>\n",
       "      <td>22</td>\n",
       "      <td>Mumbai</td>\n",
       "      <td>5000.0</td>\n",
       "    </tr>\n",
       "    <tr>\n",
       "      <th>1</th>\n",
       "      <td>vaibhav</td>\n",
       "      <td>21</td>\n",
       "      <td>Goa</td>\n",
       "      <td>1000.0</td>\n",
       "    </tr>\n",
       "    <tr>\n",
       "      <th>2</th>\n",
       "      <td>tisha</td>\n",
       "      <td>20</td>\n",
       "      <td>Gujrat</td>\n",
       "      <td>2000.0</td>\n",
       "    </tr>\n",
       "    <tr>\n",
       "      <th>3</th>\n",
       "      <td>kavya</td>\n",
       "      <td>22</td>\n",
       "      <td>Tamil nadu</td>\n",
       "      <td>3000.0</td>\n",
       "    </tr>\n",
       "    <tr>\n",
       "      <th>4</th>\n",
       "      <td>Deep</td>\n",
       "      <td>23</td>\n",
       "      <td>Delhi</td>\n",
       "      <td>4500.0</td>\n",
       "    </tr>\n",
       "    <tr>\n",
       "      <th>5</th>\n",
       "      <td>sushant</td>\n",
       "      <td>24</td>\n",
       "      <td>Hydrebad</td>\n",
       "      <td>1500.0</td>\n",
       "    </tr>\n",
       "    <tr>\n",
       "      <th>6</th>\n",
       "      <td>None</td>\n",
       "      <td>26</td>\n",
       "      <td>pakistan</td>\n",
       "      <td>0.0</td>\n",
       "    </tr>\n",
       "    <tr>\n",
       "      <th>7</th>\n",
       "      <td>None</td>\n",
       "      <td>26</td>\n",
       "      <td>pakistan</td>\n",
       "      <td>0.0</td>\n",
       "    </tr>\n",
       "    <tr>\n",
       "      <th>8</th>\n",
       "      <td>None</td>\n",
       "      <td>26</td>\n",
       "      <td>pakistan</td>\n",
       "      <td>0.0</td>\n",
       "    </tr>\n",
       "    <tr>\n",
       "      <th>9</th>\n",
       "      <td>None</td>\n",
       "      <td>26</td>\n",
       "      <td>pakistan</td>\n",
       "      <td>0.0</td>\n",
       "    </tr>\n",
       "    <tr>\n",
       "      <th>10</th>\n",
       "      <td>None</td>\n",
       "      <td>26</td>\n",
       "      <td>pakistan</td>\n",
       "      <td>100.0</td>\n",
       "    </tr>\n",
       "    <tr>\n",
       "      <th>11</th>\n",
       "      <td>None</td>\n",
       "      <td>26</td>\n",
       "      <td>pakistan</td>\n",
       "      <td>100.0</td>\n",
       "    </tr>\n",
       "    <tr>\n",
       "      <th>12</th>\n",
       "      <td>None</td>\n",
       "      <td>26</td>\n",
       "      <td>pakistan</td>\n",
       "      <td>100.0</td>\n",
       "    </tr>\n",
       "    <tr>\n",
       "      <th>13</th>\n",
       "      <td>kalluwa</td>\n",
       "      <td>26</td>\n",
       "      <td>pakistan</td>\n",
       "      <td>100.0</td>\n",
       "    </tr>\n",
       "    <tr>\n",
       "      <th>14</th>\n",
       "      <td>kalluwa</td>\n",
       "      <td>26</td>\n",
       "      <td>pakistan</td>\n",
       "      <td>100.0</td>\n",
       "    </tr>\n",
       "  </tbody>\n",
       "</table>\n",
       "</div>"
      ],
      "text/plain": [
       "       Name  Age        City  salary\n",
       "0    Tushar   22      Mumbai  5000.0\n",
       "1   vaibhav   21         Goa  1000.0\n",
       "2     tisha   20      Gujrat  2000.0\n",
       "3     kavya   22  Tamil nadu  3000.0\n",
       "4      Deep   23       Delhi  4500.0\n",
       "5   sushant   24    Hydrebad  1500.0\n",
       "6      None   26    pakistan     0.0\n",
       "7      None   26    pakistan     0.0\n",
       "8      None   26    pakistan     0.0\n",
       "9      None   26    pakistan     0.0\n",
       "10     None   26    pakistan   100.0\n",
       "11     None   26    pakistan   100.0\n",
       "12     None   26    pakistan   100.0\n",
       "13  kalluwa   26    pakistan   100.0\n",
       "14  kalluwa   26    pakistan   100.0"
      ]
     },
     "execution_count": 69,
     "metadata": {},
     "output_type": "execute_result"
    }
   ],
   "source": [
    "df['Name'] = df['Name'].fillna('kalluwa')\n",
    "df"
   ]
  },
  {
   "cell_type": "code",
   "execution_count": 62,
   "id": "b7657d2e-cef3-4cd7-9c5f-c15afcd28db5",
   "metadata": {},
   "outputs": [
    {
     "data": {
      "text/plain": [
       "Name      0\n",
       "Age       0\n",
       "City      0\n",
       "salary    0\n",
       "dtype: int64"
      ]
     },
     "execution_count": 62,
     "metadata": {},
     "output_type": "execute_result"
    }
   ],
   "source": [
    "df.isnull().sum()"
   ]
  },
  {
   "cell_type": "code",
   "execution_count": 74,
   "id": "5b5b439a-7730-4b2c-a2ba-f91b51712e7a",
   "metadata": {},
   "outputs": [
    {
     "data": {
      "text/html": [
       "<div>\n",
       "<style scoped>\n",
       "    .dataframe tbody tr th:only-of-type {\n",
       "        vertical-align: middle;\n",
       "    }\n",
       "\n",
       "    .dataframe tbody tr th {\n",
       "        vertical-align: top;\n",
       "    }\n",
       "\n",
       "    .dataframe thead th {\n",
       "        text-align: right;\n",
       "    }\n",
       "</style>\n",
       "<table border=\"1\" class=\"dataframe\">\n",
       "  <thead>\n",
       "    <tr style=\"text-align: right;\">\n",
       "      <th></th>\n",
       "      <th>Name</th>\n",
       "      <th>Age</th>\n",
       "      <th>City</th>\n",
       "      <th>salary</th>\n",
       "    </tr>\n",
       "  </thead>\n",
       "  <tbody>\n",
       "    <tr>\n",
       "      <th>0</th>\n",
       "      <td>Tushar</td>\n",
       "      <td>22</td>\n",
       "      <td>Mumbai</td>\n",
       "      <td>5000.0</td>\n",
       "    </tr>\n",
       "    <tr>\n",
       "      <th>1</th>\n",
       "      <td>vaibhav</td>\n",
       "      <td>21</td>\n",
       "      <td>Goa</td>\n",
       "      <td>1000.0</td>\n",
       "    </tr>\n",
       "    <tr>\n",
       "      <th>2</th>\n",
       "      <td>tisha</td>\n",
       "      <td>20</td>\n",
       "      <td>Gujrat</td>\n",
       "      <td>2000.0</td>\n",
       "    </tr>\n",
       "    <tr>\n",
       "      <th>3</th>\n",
       "      <td>kavya</td>\n",
       "      <td>22</td>\n",
       "      <td>Tamil nadu</td>\n",
       "      <td>3000.0</td>\n",
       "    </tr>\n",
       "    <tr>\n",
       "      <th>4</th>\n",
       "      <td>Deep</td>\n",
       "      <td>23</td>\n",
       "      <td>Delhi</td>\n",
       "      <td>4500.0</td>\n",
       "    </tr>\n",
       "    <tr>\n",
       "      <th>5</th>\n",
       "      <td>sushant</td>\n",
       "      <td>24</td>\n",
       "      <td>Hydrebad</td>\n",
       "      <td>1500.0</td>\n",
       "    </tr>\n",
       "    <tr>\n",
       "      <th>6</th>\n",
       "      <td>None</td>\n",
       "      <td>26</td>\n",
       "      <td>pakistan</td>\n",
       "      <td>0.0</td>\n",
       "    </tr>\n",
       "    <tr>\n",
       "      <th>10</th>\n",
       "      <td>None</td>\n",
       "      <td>26</td>\n",
       "      <td>pakistan</td>\n",
       "      <td>100.0</td>\n",
       "    </tr>\n",
       "    <tr>\n",
       "      <th>13</th>\n",
       "      <td>kalluwa</td>\n",
       "      <td>26</td>\n",
       "      <td>pakistan</td>\n",
       "      <td>100.0</td>\n",
       "    </tr>\n",
       "  </tbody>\n",
       "</table>\n",
       "</div>"
      ],
      "text/plain": [
       "       Name  Age        City  salary\n",
       "0    Tushar   22      Mumbai  5000.0\n",
       "1   vaibhav   21         Goa  1000.0\n",
       "2     tisha   20      Gujrat  2000.0\n",
       "3     kavya   22  Tamil nadu  3000.0\n",
       "4      Deep   23       Delhi  4500.0\n",
       "5   sushant   24    Hydrebad  1500.0\n",
       "6      None   26    pakistan     0.0\n",
       "10     None   26    pakistan   100.0\n",
       "13  kalluwa   26    pakistan   100.0"
      ]
     },
     "execution_count": 74,
     "metadata": {},
     "output_type": "execute_result"
    }
   ],
   "source": [
    "# remove all duplicatess values\n",
    "\n",
    "df_clean = df.drop_duplicates()\n",
    "df_clean"
   ]
  },
  {
   "cell_type": "code",
   "execution_count": 77,
   "id": "0f982b6e-70ba-405d-9923-c18ac4c6d775",
   "metadata": {},
   "outputs": [
    {
     "name": "stdout",
     "output_type": "stream",
     "text": [
      "       Name  Age        City  salary\n",
      "0    Tushar   22      Mumbai  5000.0\n",
      "1   vaibhav   21         Goa  1000.0\n",
      "2     tisha   20      Gujrat  2000.0\n",
      "3     kavya   22  Tamil nadu  3000.0\n",
      "4      Deep   23       Delhi  4500.0\n",
      "5   sushant   24    Hydrebad  1500.0\n",
      "6      None   26    pakistan     0.0\n",
      "13  kalluwa   26    pakistan   100.0\n"
     ]
    }
   ],
   "source": [
    "df_subset = df.drop_duplicates(subset=['Name'],)\n",
    "print(df_subset)"
   ]
  },
  {
   "cell_type": "code",
   "execution_count": 79,
   "id": "381b2778-2300-4824-92d5-8e56b6b38f7e",
   "metadata": {},
   "outputs": [
    {
     "name": "stdout",
     "output_type": "stream",
     "text": [
      "0     False\n",
      "1     False\n",
      "2     False\n",
      "3     False\n",
      "4     False\n",
      "5     False\n",
      "6     False\n",
      "7      True\n",
      "8      True\n",
      "9      True\n",
      "10    False\n",
      "11     True\n",
      "12     True\n",
      "13    False\n",
      "14     True\n",
      "dtype: bool\n",
      "6\n"
     ]
    }
   ],
   "source": [
    "# duplicates(es)- delete the value\n",
    "# duplicated(ed) - find the total  duplicate presented (false = unique values  / True = duplicated values are present)\n",
    "\n",
    "# find the duplicated\n",
    "duplicated = df.duplicated()\n",
    "print(duplicated)\n",
    "\n",
    "# find total duplicated\n",
    "total_duplicated = df.duplicated().sum()\n",
    "print(total_duplicated)"
   ]
  },
  {
   "cell_type": "code",
   "execution_count": 78,
   "id": "bec3c8df-4ca2-40b8-a3a3-00230cc1a41b",
   "metadata": {},
   "outputs": [
    {
     "name": "stdout",
     "output_type": "stream",
     "text": [
      "      Name  Age        City  salary\n",
      "0   Tushar   22      Mumbai  5000.0\n",
      "1  vaibhav   21         Goa  1000.0\n",
      "2    tisha   20      Gujrat  2000.0\n",
      "3    kavya   22  Tamil nadu  3000.0\n",
      "4     Deep   23       Delhi  4500.0\n",
      "5  sushant   24    Hydrebad  1500.0\n",
      "6     None   26    pakistan     0.0\n",
      "7  kalluwa   26    pakistan   100.0\n"
     ]
    }
   ],
   "source": [
    "# reset Index \n",
    "# df = df.drop_duplicates().reset_index(drop=True)\n",
    "df_subset = df.drop_duplicates(subset=['Name'],ignore_index = True)\n",
    "print(df_subset)"
   ]
  },
  {
   "cell_type": "code",
   "execution_count": 82,
   "id": "427ca409-5241-45d3-9f01-7c532f0f959f",
   "metadata": {},
   "outputs": [
    {
     "name": "stdout",
     "output_type": "stream",
     "text": [
      "       Name  Age        City  salary\n",
      "2     tisha   20      Gujrat  2000.0\n",
      "1   vaibhav   21         Goa  1000.0\n",
      "0    Tushar   22      Mumbai  5000.0\n",
      "3     kavya   22  Tamil nadu  3000.0\n",
      "4      Deep   23       Delhi  4500.0\n",
      "5   sushant   24    Hydrebad  1500.0\n",
      "6      None   26    pakistan     0.0\n",
      "7      None   26    pakistan     0.0\n",
      "8      None   26    pakistan     0.0\n",
      "9      None   26    pakistan     0.0\n",
      "10     None   26    pakistan   100.0\n",
      "11     None   26    pakistan   100.0\n",
      "12     None   26    pakistan   100.0\n",
      "13  kalluwa   26    pakistan   100.0\n",
      "14  kalluwa   26    pakistan   100.0\n"
     ]
    }
   ],
   "source": [
    "# sorting the dataframe\n",
    "\n",
    "ascending_order = df.sort_values(by = 'Age')\n",
    "print(ascending_order)"
   ]
  },
  {
   "cell_type": "code",
   "execution_count": 87,
   "id": "a43cb518-b74b-405d-841d-716f069fd113",
   "metadata": {},
   "outputs": [
    {
     "name": "stdout",
     "output_type": "stream",
     "text": [
      "       Name  Age        City  salary\n",
      "1   vaibhav   21         Goa  1000.0\n",
      "4      Deep   23       Delhi  4500.0\n",
      "2     tisha   20      Gujrat  2000.0\n",
      "5   sushant   24    Hydrebad  1500.0\n",
      "0    Tushar   22      Mumbai  5000.0\n",
      "3     kavya   22  Tamil nadu  3000.0\n",
      "6      None   26    pakistan     0.0\n",
      "7      None   26    pakistan     0.0\n",
      "8      None   26    pakistan     0.0\n",
      "9      None   26    pakistan     0.0\n",
      "10     None   26    pakistan   100.0\n",
      "11     None   26    pakistan   100.0\n",
      "12     None   26    pakistan   100.0\n",
      "13  kalluwa   26    pakistan   100.0\n",
      "14  kalluwa   26    pakistan   100.0\n"
     ]
    }
   ],
   "source": [
    "# sorting multiple columns \n",
    "\n",
    "d = df.sort_values(by = ['City','Age'])\n",
    "print(d)"
   ]
  },
  {
   "cell_type": "code",
   "execution_count": 84,
   "id": "94d1f71f-fbf7-4b30-8b7c-4d12784fed04",
   "metadata": {},
   "outputs": [
    {
     "name": "stdout",
     "output_type": "stream",
     "text": [
      "       Name  Age        City  salary\n",
      "6      None   26    pakistan     0.0\n",
      "12     None   26    pakistan   100.0\n",
      "11     None   26    pakistan   100.0\n",
      "10     None   26    pakistan   100.0\n",
      "9      None   26    pakistan     0.0\n",
      "8      None   26    pakistan     0.0\n",
      "7      None   26    pakistan     0.0\n",
      "13  kalluwa   26    pakistan   100.0\n",
      "14  kalluwa   26    pakistan   100.0\n",
      "5   sushant   24    Hydrebad  1500.0\n",
      "4      Deep   23       Delhi  4500.0\n",
      "3     kavya   22  Tamil nadu  3000.0\n",
      "0    Tushar   22      Mumbai  5000.0\n",
      "1   vaibhav   21         Goa  1000.0\n",
      "2     tisha   20      Gujrat  2000.0\n"
     ]
    }
   ],
   "source": [
    "desending_order = df.sort_values(by='Age' , ascending = False)\n",
    "print(desending_order)"
   ]
  },
  {
   "cell_type": "code",
   "execution_count": 93,
   "id": "f478b648-8adb-493e-ad5a-6e588f4b1c4b",
   "metadata": {},
   "outputs": [
    {
     "name": "stdout",
     "output_type": "stream",
     "text": [
      "       Name  Age        City  salary\n",
      "0    Tushar   22      Mumbai  5000.0\n",
      "1   vaibhav   21         Goa  1000.0\n",
      "2     tisha   20      Gujrat  2000.0\n",
      "3     kavya   22  Tamil nadu  3000.0\n",
      "4      Deep   23       Delhi  4500.0\n",
      "5   sushant   24    Hydrebad  1500.0\n",
      "6      None   26    pakistan     0.0\n",
      "7      None   26    pakistan     0.0\n",
      "8      None   26    pakistan     0.0\n",
      "9      None   26    pakistan     0.0\n",
      "10     None   26    pakistan   100.0\n",
      "11     None   26    pakistan   100.0\n",
      "12     None   26    pakistan   100.0\n",
      "13  kalluwa   26    pakistan   100.0\n",
      "14  kalluwa   26    pakistan   100.0\n",
      "15    Rohan   26       Delhi     NaN\n",
      "16    Mohan   26       Delhi     NaN\n",
      "17    sohan   26     Mumbai      NaN\n",
      "18    ridhi   20     Mumbai   5050.0\n",
      "19    Sidhi   22        Goa    500.0\n",
      "20    Sidhi   22        Goa    500.0\n"
     ]
    }
   ],
   "source": [
    "# Grouping\n",
    "\n",
    "#add new data\n",
    "new_row1 = {'Name':'Sidhi', 'Age':22, 'City': 'Goa ', 'salary': 500}\n",
    "row1 = pd.DataFrame([new_row1])         # add row in list\n",
    "df = pd.concat([df, row1],  ignore_index = True)\n",
    "print(df)"
   ]
  },
  {
   "cell_type": "code",
   "execution_count": 99,
   "id": "42af80c6-6498-43ab-b133-4d3efb4c945b",
   "metadata": {},
   "outputs": [
    {
     "name": "stdout",
     "output_type": "stream",
     "text": [
      "                                                  Name  Age  salary\n",
      "City                                                               \n",
      " Goa                                           vaibhav   21  1000.0\n",
      "Delhi                                   DeepRohanMohan   75  4500.0\n",
      "Goa                                         SidhiSidhi   44  1000.0\n",
      "Gujrat                                           tisha   20  2000.0\n",
      "Hydrebad                                       sushant   24  1500.0\n",
      "Mumbai                                          Tushar   22  5000.0\n",
      "Mumbai                                      sohanridhi   46  5050.0\n",
      "Tamil nadu                                       kavya   22  3000.0\n",
      "pakistan    NoneNoneNoneNoneNoneNoneNonekalluwakalluwa  234   500.0\n",
      "--------------------------------------------------------\n",
      "City\n",
      " Goa          1\n",
      "Delhi         3\n",
      "Goa           2\n",
      "Gujrat        1\n",
      "Hydrebad      1\n",
      "Mumbai        1\n",
      "Mumbai        2\n",
      "Tamil nadu    1\n",
      "pakistan      9\n",
      "dtype: int64\n",
      "----------------------------------------------------------\n",
      "               max     min\n",
      "City                      \n",
      " Goa        1000.0  1000.0\n",
      "Delhi       4500.0  4500.0\n",
      "Goa          500.0   500.0\n",
      "Gujrat      2000.0  2000.0\n",
      "Hydrebad    1500.0  1500.0\n",
      "Mumbai      5000.0  5000.0\n",
      "Mumbai      5050.0  5050.0\n",
      "Tamil nadu  3000.0  3000.0\n",
      "pakistan     100.0     0.0\n"
     ]
    }
   ],
   "source": [
    "# Grouping data and aggregation\n",
    "# group by city\n",
    "\n",
    "grouped = df.groupby('City').sum()\n",
    "print(grouped)\n",
    "print('--------------------------------------------------------')\n",
    "\n",
    "grouped = df.groupby('City').size()\n",
    "print(grouped)\n",
    "\n",
    "print('----------------------------------------------------------')\n",
    "\n",
    "# find min and max salary\n",
    "age_stats = df.groupby('City')['salary'].agg(['max','min'])\n",
    "print(age_stats)"
   ]
  },
  {
   "cell_type": "code",
   "execution_count": null,
   "id": "c1567b73-d6d5-4f5b-ac82-a98b478725d2",
   "metadata": {},
   "outputs": [],
   "source": []
  }
 ],
 "metadata": {
  "kernelspec": {
   "display_name": "Python 3 (ipykernel)",
   "language": "python",
   "name": "python3"
  },
  "language_info": {
   "codemirror_mode": {
    "name": "ipython",
    "version": 3
   },
   "file_extension": ".py",
   "mimetype": "text/x-python",
   "name": "python",
   "nbconvert_exporter": "python",
   "pygments_lexer": "ipython3",
   "version": "3.13.5"
  }
 },
 "nbformat": 4,
 "nbformat_minor": 5
}
