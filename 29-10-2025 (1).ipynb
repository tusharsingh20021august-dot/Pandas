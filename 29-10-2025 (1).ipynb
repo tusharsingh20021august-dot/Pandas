{
 "cells": [
  {
   "cell_type": "code",
   "execution_count": 1,
   "id": "4bce64b9-c16d-446a-ae8c-680dd8c5eb3f",
   "metadata": {},
   "outputs": [],
   "source": [
    "# date - 29/10/2025\n",
    "import pandas as pd"
   ]
  },
  {
   "cell_type": "code",
   "execution_count": 13,
   "id": "b21dd16a-dffc-4dda-b575-69d7e2cd1dae",
   "metadata": {},
   "outputs": [
    {
     "name": "stdout",
     "output_type": "stream",
     "text": [
      "{'Name': ['Tushar', 'vaibhav', 'tisha', 'kavya', 'Deep', 'sushant'], 'Age': [22, 21, 20, 22, 23, 24], 'City': ['Mumbai', ' Goa', 'Gujrat', 'Tamil nadu', 'Delhi', 'Hydrebad']}\n"
     ]
    }
   ],
   "source": [
    "# Dataframe\n",
    "# data prsent in dict form\n",
    "data = {\n",
    "        'Name':['Tushar', 'vaibhav', 'tisha', 'kavya','Deep','sushant'],\n",
    "        'Age':[22,21,20,22,23,24],\n",
    "        'City':['Mumbai',' Goa', 'Gujrat', 'Tamil nadu', 'Delhi', 'Hydrebad']\n",
    "}\n",
    "print(data)"
   ]
  },
  {
   "cell_type": "code",
   "execution_count": 14,
   "id": "12760ff0-c5f2-48ea-8aa0-65688aea68d5",
   "metadata": {},
   "outputs": [
    {
     "name": "stdout",
     "output_type": "stream",
     "text": [
      "      Name  Age        City\n",
      "0   Tushar   22      Mumbai\n",
      "1  vaibhav   21         Goa\n",
      "2    tisha   20      Gujrat\n",
      "3    kavya   22  Tamil nadu\n",
      "4     Deep   23       Delhi\n",
      "5  sushant   24    Hydrebad\n"
     ]
    }
   ],
   "source": [
    "f = pd.DataFrame(data)\n",
    "print(f)"
   ]
  },
  {
   "cell_type": "code",
   "execution_count": 22,
   "id": "2895ae22-1e20-4a98-b4a7-79a10ad3b5da",
   "metadata": {},
   "outputs": [
    {
     "name": "stdout",
     "output_type": "stream",
     "text": [
      "    name  age    city\n",
      "0  Rahul   23   Tokyo\n",
      "1    joy   20  Jaipur\n",
      "2  adrsh   25  mumbai\n"
     ]
    }
   ],
   "source": [
    "# data are present in list form\n",
    "\n",
    "data1 = [\n",
    "       ['Rahul',23,'Tokyo'],\n",
    "       ['joy',20,'Jaipur'],\n",
    "        ['adrsh',25,'mumbai']\n",
    "]\n",
    "col = ['name', 'age' , 'city']      # in list we define the columns name\n",
    "df = pd.DataFrame(data1, columns = col)\n",
    "print(df)"
   ]
  },
  {
   "cell_type": "code",
   "execution_count": null,
   "id": "70bd56d0-0d9d-4663-a6c7-40e2fe30b56b",
   "metadata": {},
   "outputs": [],
   "source": [
    "# df = pd.read_excel('data.xlsx')\n",
    "# df = pd.read_json('data.json')"
   ]
  },
  {
   "cell_type": "code",
   "execution_count": 29,
   "id": "d270d59e-8041-41d6-aaa7-f045c4d00331",
   "metadata": {},
   "outputs": [
    {
     "name": "stdout",
     "output_type": "stream",
     "text": [
      "   Transaction_ID  Customer_ID Transaction_Date Transaction_Type Merchant  \\\n",
      "0          100000         4452       2023-01-01           Online  Walmart   \n",
      "1          100001         2775       2023-01-01              ATM  BestBuy   \n",
      "2          100002         2259       2023-01-01   Mobile Payment     Uber   \n",
      "3          100003         4545       2023-01-01           Online  BestBuy   \n",
      "4          100004         2137       2023-01-01              ATM   Amazon   \n",
      "\n",
      "   Category   Amount Payment_Mode Transaction_Status       Location  \n",
      "0    Travel  4520.70   Debit Card           Approved      Jonesport  \n",
      "1    Travel  1437.85   Debit Card           Approved  Port Jennifer  \n",
      "2  Clothing  3320.52       PayPal           Approved     Port James  \n",
      "3    Travel  2659.96   Debit Card           Approved     Hawkinston  \n",
      "4    Travel  2517.07   Debit Card           Approved    Matthewland  \n"
     ]
    }
   ],
   "source": [
    "credit_data = pd.read_csv('C:/Users/user/Downloads/credit_card_transactions.csv')\n",
    "print(data.head())"
   ]
  },
  {
   "cell_type": "code",
   "execution_count": 32,
   "id": "261f7cd3-ae1d-48ef-8f22-ae86fa35c2a0",
   "metadata": {},
   "outputs": [
    {
     "name": "stdout",
     "output_type": "stream",
     "text": [
      "   Transaction_ID  Customer_ID Transaction_Date Transaction_Type Merchant  \\\n",
      "0          100000         4452       2023-01-01           Online  Walmart   \n",
      "1          100001         2775       2023-01-01              ATM  BestBuy   \n",
      "2          100002         2259       2023-01-01   Mobile Payment     Uber   \n",
      "3          100003         4545       2023-01-01           Online  BestBuy   \n",
      "4          100004         2137       2023-01-01              ATM   Amazon   \n",
      "\n",
      "   Category   Amount Payment_Mode Transaction_Status       Location  \n",
      "0    Travel  4520.70   Debit Card           Approved      Jonesport  \n",
      "1    Travel  1437.85   Debit Card           Approved  Port Jennifer  \n",
      "2  Clothing  3320.52       PayPal           Approved     Port James  \n",
      "3    Travel  2659.96   Debit Card           Approved     Hawkinston  \n",
      "4    Travel  2517.07   Debit Card           Approved    Matthewland  \n",
      "--------------------------------------------------------------------------\n",
      "      Transaction_ID  Customer_ID Transaction_Date Transaction_Type  \\\n",
      "5495          105495         3262       2023-08-17              ATM   \n",
      "5496          105496         1234       2023-08-18              POS   \n",
      "5497          105497         3978       2023-08-18           Online   \n",
      "5498          105498         3082       2023-08-18              ATM   \n",
      "5499          105499         2271       2023-08-18   Mobile Payment   \n",
      "\n",
      "         Merchant       Category   Amount Payment_Mode Transaction_Status  \\\n",
      "5495  Apple Store         Travel  4554.82   Debit Card           Approved   \n",
      "5496         Uber         Travel  4118.51   Debit Card           Approved   \n",
      "5497  Apple Store       Clothing  2981.13          UPI           Approved   \n",
      "5498         Uber       Clothing  2168.39   Debit Card           Approved   \n",
      "5499      Netflix  Entertainment  1918.66          UPI           Approved   \n",
      "\n",
      "               Location  \n",
      "5495   South Hannahtown  \n",
      "5496     South Courtney  \n",
      "5497           Rubenton  \n",
      "5498     East Brianfurt  \n",
      "5499  New Stephaniebury  \n"
     ]
    }
   ],
   "source": [
    "# first 5 data\n",
    "print(credit_data.head())\n",
    "print('--------------------------------------------------------------------------')\n",
    "#last five data\n",
    "print(credit_data.tail())"
   ]
  },
  {
   "cell_type": "code",
   "execution_count": 38,
   "id": "d4e29ac9-92e8-4cae-913d-76863b913eae",
   "metadata": {},
   "outputs": [
    {
     "name": "stdout",
     "output_type": "stream",
     "text": [
      "Transaction_ID          int64\n",
      "Customer_ID             int64\n",
      "Transaction_Date       object\n",
      "Transaction_Type       object\n",
      "Merchant               object\n",
      "Category               object\n",
      "Amount                float64\n",
      "Payment_Mode           object\n",
      "Transaction_Status     object\n",
      "Location               object\n",
      "dtype: object\n"
     ]
    }
   ],
   "source": [
    "#check the datatypes\n",
    "\n",
    "print(credit_data.dtypes)"
   ]
  },
  {
   "cell_type": "code",
   "execution_count": 49,
   "id": "6141db67-7303-441b-9c3c-9fab8e7280e2",
   "metadata": {},
   "outputs": [
    {
     "name": "stdout",
     "output_type": "stream",
     "text": [
      "<class 'pandas.core.frame.DataFrame'>\n",
      "RangeIndex: 5500 entries, 0 to 5499\n",
      "Data columns (total 10 columns):\n",
      " #   Column              Non-Null Count  Dtype  \n",
      "---  ------              --------------  -----  \n",
      " 0   Transaction_ID      5500 non-null   int64  \n",
      " 1   Customer_ID         5500 non-null   int64  \n",
      " 2   Transaction_Date    5500 non-null   object \n",
      " 3   Transaction_Type    5500 non-null   object \n",
      " 4   Merchant            5500 non-null   object \n",
      " 5   Category            5500 non-null   object \n",
      " 6   Amount              5500 non-null   float64\n",
      " 7   Payment_Mode        5500 non-null   object \n",
      " 8   Transaction_Status  5500 non-null   object \n",
      " 9   Location            5500 non-null   object \n",
      "dtypes: float64(1), int64(2), object(7)\n",
      "memory usage: 429.8+ KB\n",
      "None\n"
     ]
    }
   ],
   "source": [
    "#check information\n",
    "\n",
    "print(credit_data.info())"
   ]
  },
  {
   "cell_type": "code",
   "execution_count": 34,
   "id": "143b8cf9-0911-434a-a5ab-1e458b12c956",
   "metadata": {},
   "outputs": [
    {
     "name": "stdout",
     "output_type": "stream",
     "text": [
      "       Transaction_ID  Customer_ID       Amount\n",
      "count     5500.000000  5500.000000  5500.000000\n",
      "mean    102749.500000  2989.954182  2492.109224\n",
      "std       1587.857571  1153.928878  1444.493842\n",
      "min     100000.000000  1000.000000     6.550000\n",
      "25%     101374.750000  1988.000000  1236.935000\n",
      "50%     102749.500000  3000.000000  2502.405000\n",
      "75%     104124.250000  3990.000000  3767.957500\n",
      "max     105499.000000  4998.000000  4997.490000\n"
     ]
    }
   ],
   "source": [
    "# describe the dataframe\n",
    "\n",
    "print(credit_data.describe())"
   ]
  },
  {
   "cell_type": "code",
   "execution_count": 52,
   "id": "c43f1a68-454b-403d-b5f7-242cf3301ede",
   "metadata": {},
   "outputs": [
    {
     "name": "stdout",
     "output_type": "stream",
     "text": [
      "(5500, 10)\n"
     ]
    }
   ],
   "source": [
    "# shape of the dataframe\n",
    "print(credit_data.shape)"
   ]
  },
  {
   "cell_type": "code",
   "execution_count": 44,
   "id": "e32f8a9c-7fa5-4e6e-a05c-20d5605a4f68",
   "metadata": {},
   "outputs": [
    {
     "name": "stdout",
     "output_type": "stream",
     "text": [
      "Index(['Transaction_ID', 'Customer_ID', 'Transaction_Date', 'Transaction_Type',\n",
      "       'Merchant', 'Category', 'Amount', 'Payment_Mode', 'Transaction_Status',\n",
      "       'Location'],\n",
      "      dtype='object')\n"
     ]
    }
   ],
   "source": [
    "# Column names\n",
    "\n",
    "print(credit_data.columns)"
   ]
  },
  {
   "cell_type": "code",
   "execution_count": 43,
   "id": "17d97790-d87d-4fc0-949d-8386221d137f",
   "metadata": {},
   "outputs": [
    {
     "name": "stdout",
     "output_type": "stream",
     "text": [
      "Transaction_ID\n",
      "Customer_ID\n",
      "Transaction_Date\n",
      "Transaction_Type\n",
      "Merchant\n",
      "Category\n",
      "Amount\n",
      "Payment_Mode\n",
      "Transaction_Status\n",
      "Location\n"
     ]
    }
   ],
   "source": [
    "# \n",
    "data_columns = credit_data.columns.tolist()\n",
    "for i in data_columns:\n",
    "    print(i)"
   ]
  },
  {
   "cell_type": "code",
   "execution_count": 45,
   "id": "bbb1bfa7-6ebb-4d2d-a633-00b947cf190f",
   "metadata": {},
   "outputs": [
    {
     "name": "stdout",
     "output_type": "stream",
     "text": [
      "RangeIndex(start=0, stop=5500, step=1)\n"
     ]
    }
   ],
   "source": [
    "# indexes of dataframe\n",
    "\n",
    "print(credit_data.index)"
   ]
  },
  {
   "cell_type": "code",
   "execution_count": 46,
   "id": "933fe670-f4ee-4d4a-869c-89e4d589e451",
   "metadata": {},
   "outputs": [
    {
     "name": "stdout",
     "output_type": "stream",
     "text": [
      "0       4520.70\n",
      "1       1437.85\n",
      "2       3320.52\n",
      "3       2659.96\n",
      "4       2517.07\n",
      "         ...   \n",
      "5495    4554.82\n",
      "5496    4118.51\n",
      "5497    2981.13\n",
      "5498    2168.39\n",
      "5499    1918.66\n",
      "Name: Amount, Length: 5500, dtype: float64\n"
     ]
    }
   ],
   "source": [
    "# selecting data\n",
    "print(credit_data['Amount'])"
   ]
  },
  {
   "cell_type": "code",
   "execution_count": 48,
   "id": "b2e43e1c-ef2b-47f7-be93-79e8ae00058e",
   "metadata": {},
   "outputs": [
    {
     "name": "stdout",
     "output_type": "stream",
     "text": [
      "       Amount           Location\n",
      "0     4520.70          Jonesport\n",
      "1     1437.85      Port Jennifer\n",
      "2     3320.52         Port James\n",
      "3     2659.96         Hawkinston\n",
      "4     2517.07        Matthewland\n",
      "...       ...                ...\n",
      "5495  4554.82   South Hannahtown\n",
      "5496  4118.51     South Courtney\n",
      "5497  2981.13           Rubenton\n",
      "5498  2168.39     East Brianfurt\n",
      "5499  1918.66  New Stephaniebury\n",
      "\n",
      "[5500 rows x 2 columns]\n"
     ]
    }
   ],
   "source": [
    "# for multiple columns\n",
    "# 1 methods\n",
    "print(credit_data[['Amount','Location']])\n",
    "\n",
    "# 2 methods\n"
   ]
  },
  {
   "cell_type": "code",
   "execution_count": 54,
   "id": "11dfc949-895a-4b42-87ad-e13bbd6ed1bb",
   "metadata": {},
   "outputs": [
    {
     "name": "stdout",
     "output_type": "stream",
     "text": [
      "Transaction_ID                100002\n",
      "Customer_ID                     2259\n",
      "Transaction_Date          2023-01-01\n",
      "Transaction_Type      Mobile Payment\n",
      "Merchant                        Uber\n",
      "Category                    Clothing\n",
      "Amount                       3320.52\n",
      "Payment_Mode                  PayPal\n",
      "Transaction_Status          Approved\n",
      "Location                  Port James\n",
      "Name: 2, dtype: object\n"
     ]
    }
   ],
   "source": [
    "# row by index\n",
    "\n",
    "print(credit_data.iloc[2])"
   ]
  },
  {
   "cell_type": "code",
   "execution_count": 56,
   "id": "d2059307-f9b4-4bd8-bab0-83edf69a0f73",
   "metadata": {},
   "outputs": [
    {
     "name": "stdout",
     "output_type": "stream",
     "text": [
      "     Transaction_ID  Customer_ID Transaction_Date Transaction_Type  \\\n",
      "100          100100         1145       2023-01-05   Mobile Payment   \n",
      "101          100101         3025       2023-01-05           Online   \n",
      "102          100102         1522       2023-01-05   Mobile Payment   \n",
      "103          100103         2210       2023-01-05              ATM   \n",
      "104          100104         4100       2023-01-05              ATM   \n",
      "105          100105         3849       2023-01-05   Mobile Payment   \n",
      "106          100106         2753       2023-01-05              POS   \n",
      "107          100107         3847       2023-01-05              POS   \n",
      "108          100108         1638       2023-01-05              ATM   \n",
      "109          100109         3890       2023-01-05           Online   \n",
      "110          100110         1894       2023-01-05           Online   \n",
      "\n",
      "        Merchant       Category   Amount Payment_Mode Transaction_Status  \\\n",
      "100         Uber      Groceries  1277.06       PayPal           Declined   \n",
      "101       Target       Clothing   395.01       PayPal           Approved   \n",
      "102      BestBuy       Clothing  1875.28   Debit Card           Approved   \n",
      "103  Apple Store         Travel  2451.38       PayPal           Approved   \n",
      "104      Walmart         Dining   149.46       PayPal           Declined   \n",
      "105      Walmart  Entertainment  3571.00   Debit Card           Approved   \n",
      "106       Target    Electronics  1643.06   Debit Card           Approved   \n",
      "107  Apple Store       Clothing   155.60       PayPal           Approved   \n",
      "108         Uber       Clothing  1326.21          UPI           Approved   \n",
      "109      Netflix      Groceries   987.94       PayPal           Approved   \n",
      "110  Apple Store         Travel  1284.68  Credit Card           Approved   \n",
      "\n",
      "                  Location  \n",
      "100       Christophermouth  \n",
      "101            Robertmouth  \n",
      "102  East Christopherburgh  \n",
      "103           Michaelmouth  \n",
      "104            Justinshire  \n",
      "105        Port Stevenside  \n",
      "106               Jamieton  \n",
      "107             Blairmouth  \n",
      "108            Rosarioport  \n",
      "109            Lake Dennis  \n",
      "110             West Tyler  \n"
     ]
    }
   ],
   "source": [
    "# slicing methods\n",
    "\n",
    "# select row 100 to 110\n",
    "print(credit_data.iloc[100:111])"
   ]
  },
  {
   "cell_type": "code",
   "execution_count": 58,
   "id": "8dbcb010-7d27-4db6-bd4f-890c024dde29",
   "metadata": {},
   "outputs": [
    {
     "name": "stdout",
     "output_type": "stream",
     "text": [
      "0               Online\n",
      "1                  ATM\n",
      "2       Mobile Payment\n",
      "3               Online\n",
      "4                  ATM\n",
      "             ...      \n",
      "5495               ATM\n",
      "5496               POS\n",
      "5497            Online\n",
      "5498               ATM\n",
      "5499    Mobile Payment\n",
      "Name: Transaction_Type, Length: 5500, dtype: object\n"
     ]
    }
   ],
   "source": [
    "# it print the columns values\n",
    "print(credit_data.iloc[:,3])   # 3 - transaction"
   ]
  },
  {
   "cell_type": "code",
   "execution_count": 61,
   "id": "fbb08f38-2c7b-4fd2-87d3-fa4233d1520d",
   "metadata": {},
   "outputs": [
    {
     "name": "stdout",
     "output_type": "stream",
     "text": [
      "     Amount            Location\n",
      "0   4520.70           Jonesport\n",
      "1   1437.85       Port Jennifer\n",
      "2   3320.52          Port James\n",
      "3   2659.96          Hawkinston\n",
      "4   2517.07         Matthewland\n",
      "5   2032.91  West Patriciamouth\n",
      "6   2309.06           Scottport\n",
      "7    334.82            Shawview\n",
      "8    374.29        Port Lindsay\n",
      "9   1117.12      Lake Steveport\n",
      "10  1908.74         Ginachester\n"
     ]
    }
   ],
   "source": [
    "print(credit_data.loc[0:10,['Amount','Location']]) "
   ]
  },
  {
   "cell_type": "code",
   "execution_count": 62,
   "id": "7aa9465f-3e34-4eb7-8885-654a1e39875e",
   "metadata": {},
   "outputs": [
    {
     "name": "stdout",
     "output_type": "stream",
     "text": [
      "      Transaction_ID  Customer_ID Transaction_Date Transaction_Type  \\\n",
      "0             100000         4452       2023-01-01           Online   \n",
      "11            100011         4816       2023-01-01   Mobile Payment   \n",
      "20            100020         1337       2023-01-01              POS   \n",
      "22            100022         3057       2023-01-01           Online   \n",
      "24            100024         2551       2023-01-02              ATM   \n",
      "...              ...          ...              ...              ...   \n",
      "5465          105465         3262       2023-08-16   Mobile Payment   \n",
      "5481          105481         1685       2023-08-17   Mobile Payment   \n",
      "5491          105491         3258       2023-08-17   Mobile Payment   \n",
      "5495          105495         3262       2023-08-17              ATM   \n",
      "5496          105496         1234       2023-08-18              POS   \n",
      "\n",
      "         Merchant       Category   Amount Payment_Mode Transaction_Status  \\\n",
      "0         Walmart         Travel  4520.70   Debit Card           Approved   \n",
      "11        Netflix      Groceries  4530.51       PayPal           Approved   \n",
      "20           Uber         Dining  4684.13       PayPal           Approved   \n",
      "22        BestBuy      Groceries  4094.49       PayPal           Approved   \n",
      "24           Uber      Groceries  4013.36   Debit Card           Approved   \n",
      "...           ...            ...      ...          ...                ...   \n",
      "5465      BestBuy      Groceries  4069.02  Credit Card           Approved   \n",
      "5481      Netflix  Entertainment  4518.16  Credit Card           Approved   \n",
      "5491      Netflix      Groceries  4860.84   Debit Card           Approved   \n",
      "5495  Apple Store         Travel  4554.82   Debit Card           Approved   \n",
      "5496         Uber         Travel  4118.51   Debit Card           Approved   \n",
      "\n",
      "              Location  \n",
      "0            Jonesport  \n",
      "11        Petersonbury  \n",
      "20       Nicholsonside  \n",
      "22        West Kenneth  \n",
      "24        Timothyville  \n",
      "...                ...  \n",
      "5465         Arnoldton  \n",
      "5481     West Judystad  \n",
      "5491        West James  \n",
      "5495  South Hannahtown  \n",
      "5496    South Courtney  \n",
      "\n",
      "[1110 rows x 10 columns]\n"
     ]
    }
   ],
   "source": [
    "# condito=ional selection\n",
    "\n",
    "#print rows where Amout > 5000\n",
    "print(credit_data[credit_data['Amount'] > 4000])"
   ]
  },
  {
   "cell_type": "code",
   "execution_count": 70,
   "id": "0019b8fe-06ff-4985-af07-0157174381e3",
   "metadata": {},
   "outputs": [
    {
     "name": "stdout",
     "output_type": "stream",
     "text": [
      "      Transaction_ID  Customer_ID Transaction_Date Transaction_Type  \\\n",
      "0             100000         4452       2023-01-01           Online   \n",
      "22            100022         3057       2023-01-01           Online   \n",
      "26            100026         4254       2023-01-02           Online   \n",
      "27            100027         1719       2023-01-02           Online   \n",
      "34            100034         2424       2023-01-02           Online   \n",
      "...              ...          ...              ...              ...   \n",
      "5326          105326         1662       2023-08-10           Online   \n",
      "5341          105341         2011       2023-08-11           Online   \n",
      "5395          105395         3551       2023-08-13           Online   \n",
      "5446          105446         4468       2023-08-15           Online   \n",
      "5461          105461         1140       2023-08-16           Online   \n",
      "\n",
      "         Merchant       Category   Amount Payment_Mode Transaction_Status  \\\n",
      "0         Walmart         Travel  4520.70   Debit Card           Approved   \n",
      "22        BestBuy      Groceries  4094.49       PayPal           Approved   \n",
      "26        BestBuy         Travel  4054.78  Credit Card           Approved   \n",
      "27        Walmart  Entertainment  4471.68          UPI            Pending   \n",
      "34         Target      Groceries  4074.73       PayPal           Approved   \n",
      "...           ...            ...      ...          ...                ...   \n",
      "5326       Target    Electronics  4020.44  Credit Card           Approved   \n",
      "5341  Apple Store         Dining  4532.78  Credit Card           Approved   \n",
      "5395       Target         Dining  4540.80  Credit Card            Pending   \n",
      "5446      Walmart         Dining  4124.70  Credit Card           Declined   \n",
      "5461  Apple Store  Entertainment  4027.18       PayPal           Approved   \n",
      "\n",
      "                Location  \n",
      "0              Jonesport  \n",
      "22          West Kenneth  \n",
      "26          Stevensmouth  \n",
      "27           Riveramouth  \n",
      "34        North Marytown  \n",
      "...                  ...  \n",
      "5326  South Adrianaburgh  \n",
      "5341           Allenland  \n",
      "5395          Floresview  \n",
      "5446         Cartermouth  \n",
      "5461   South Lorichester  \n",
      "\n",
      "[291 rows x 10 columns]\n"
     ]
    }
   ],
   "source": [
    "# print row amount > 4000 with transaction type = online\n",
    "\n",
    "print(credit_data[(credit_data['Amount'] > 4000) & (credit_data['Transaction_Type'] == 'Online')])"
   ]
  },
  {
   "cell_type": "code",
   "execution_count": 73,
   "id": "305b6acb-7f0d-4cb6-a5ca-17c28d2b4d6f",
   "metadata": {},
   "outputs": [
    {
     "name": "stdout",
     "output_type": "stream",
     "text": [
      "      Transaction_ID  Customer_ID Transaction_Date Transaction_Type  \\\n",
      "405           100405         4812       2023-01-17           Online   \n",
      "429           100429         3036       2023-01-18           Online   \n",
      "659           100659         2262       2023-01-28           Online   \n",
      "785           100785         2318       2023-02-02           Online   \n",
      "1025          101025         4542       2023-02-12           Online   \n",
      "1027          101027         4510       2023-02-12           Online   \n",
      "1126          101126         1981       2023-02-16           Online   \n",
      "1457          101457         3957       2023-03-02           Online   \n",
      "1658          101658         3031       2023-03-11           Online   \n",
      "1659          101659         4627       2023-03-11           Online   \n",
      "1690          101690         2758       2023-03-12           Online   \n",
      "2061          102061         1747       2023-03-27           Online   \n",
      "2107          102107         2812       2023-03-29           Online   \n",
      "2292          102292         1906       2023-04-06           Online   \n",
      "2308          102308         1818       2023-04-07           Online   \n",
      "2719          102719         4881       2023-04-24           Online   \n",
      "2737          102737         2243       2023-04-25           Online   \n",
      "2875          102875         3519       2023-04-30           Online   \n",
      "2910          102910         1406       2023-05-02           Online   \n",
      "2922          102922         4213       2023-05-02           Online   \n",
      "3176          103176         4961       2023-05-13           Online   \n",
      "3183          103183         1124       2023-05-13           Online   \n",
      "3339          103339         2046       2023-05-20           Online   \n",
      "3467          103467         1323       2023-05-25           Online   \n",
      "3565          103565         1946       2023-05-29           Online   \n",
      "3583          103583         1445       2023-05-30           Online   \n",
      "3667          103667         4556       2023-06-02           Online   \n",
      "3886          103886         4817       2023-06-11           Online   \n",
      "3995          103995         3160       2023-06-16           Online   \n",
      "4165          104165         3956       2023-06-23           Online   \n",
      "4217          104217         3713       2023-06-25           Online   \n",
      "4289          104289         2145       2023-06-28           Online   \n",
      "4445          104445         2195       2023-07-05           Online   \n",
      "4570          104570         4618       2023-07-10           Online   \n",
      "4581          104581         2367       2023-07-10           Online   \n",
      "4884          104884         4908       2023-07-23           Online   \n",
      "4905          104905         2285       2023-07-24           Online   \n",
      "4933          104933         3232       2023-07-25           Online   \n",
      "4934          104934         1945       2023-07-25           Online   \n",
      "5172          105172         1283       2023-08-04           Online   \n",
      "5187          105187         2706       2023-08-05           Online   \n",
      "5287          105287         3804       2023-08-09           Online   \n",
      "5302          105302         1755       2023-08-09           Online   \n",
      "\n",
      "         Merchant  Category   Amount Payment_Mode Transaction_Status  \\\n",
      "405          Uber  Clothing  4406.27  Credit Card           Approved   \n",
      "429       Walmart  Clothing  4261.50          UPI           Approved   \n",
      "659        Amazon  Clothing  4442.83       PayPal           Approved   \n",
      "785       BestBuy  Clothing  4195.20       PayPal           Approved   \n",
      "1025       Target  Clothing  4831.38   Debit Card           Declined   \n",
      "1027      Walmart  Clothing  4081.54       PayPal           Approved   \n",
      "1126      BestBuy  Clothing  4670.58          UPI           Approved   \n",
      "1457       Target  Clothing  4777.01   Debit Card           Approved   \n",
      "1658  Apple Store  Clothing  4980.56          UPI           Approved   \n",
      "1659      Netflix  Clothing  4069.62  Credit Card           Approved   \n",
      "1690      Netflix  Clothing  4156.73          UPI           Approved   \n",
      "2061      BestBuy  Clothing  4057.11  Credit Card           Approved   \n",
      "2107       Amazon  Clothing  4661.29       PayPal           Approved   \n",
      "2292  Apple Store  Clothing  4642.28       PayPal           Approved   \n",
      "2308       Amazon  Clothing  4854.58   Debit Card           Approved   \n",
      "2719      BestBuy  Clothing  4857.58  Credit Card           Approved   \n",
      "2737       Target  Clothing  4764.36  Credit Card           Approved   \n",
      "2875       Target  Clothing  4532.29   Debit Card           Approved   \n",
      "2910       Target  Clothing  4592.88       PayPal           Approved   \n",
      "2922         Uber  Clothing  4525.60          UPI           Approved   \n",
      "3176      BestBuy  Clothing  4352.40          UPI           Approved   \n",
      "3183       Amazon  Clothing  4157.62       PayPal            Pending   \n",
      "3339       Amazon  Clothing  4448.81       PayPal           Approved   \n",
      "3467       Amazon  Clothing  4944.29       PayPal           Approved   \n",
      "3565       Target  Clothing  4957.74       PayPal           Approved   \n",
      "3583       Amazon  Clothing  4513.67          UPI           Approved   \n",
      "3667      BestBuy  Clothing  4253.35          UPI           Approved   \n",
      "3886       Target  Clothing  4039.28  Credit Card           Approved   \n",
      "3995         Uber  Clothing  4225.81       PayPal           Declined   \n",
      "4165         Uber  Clothing  4898.72   Debit Card           Approved   \n",
      "4217         Uber  Clothing  4992.68   Debit Card           Approved   \n",
      "4289         Uber  Clothing  4764.35          UPI           Approved   \n",
      "4445       Amazon  Clothing  4500.72          UPI           Approved   \n",
      "4570      Netflix  Clothing  4543.87  Credit Card            Pending   \n",
      "4581         Uber  Clothing  4459.58   Debit Card           Declined   \n",
      "4884       Target  Clothing  4040.07   Debit Card           Approved   \n",
      "4905      Netflix  Clothing  4940.87          UPI           Approved   \n",
      "4933      BestBuy  Clothing  4051.45   Debit Card           Approved   \n",
      "4934  Apple Store  Clothing  4596.10  Credit Card           Declined   \n",
      "5172      Walmart  Clothing  4009.47   Debit Card           Approved   \n",
      "5187      Netflix  Clothing  4924.01   Debit Card           Approved   \n",
      "5287         Uber  Clothing  4279.66   Debit Card           Approved   \n",
      "5302      Walmart  Clothing  4125.59  Credit Card           Approved   \n",
      "\n",
      "                Location  \n",
      "405         Colemanmouth  \n",
      "429              Lisaton  \n",
      "659            East Mark  \n",
      "785           Matthewton  \n",
      "1025    Rodriguezborough  \n",
      "1027       North Heather  \n",
      "1126            Paulbury  \n",
      "1457     Port Pamelaview  \n",
      "1658        Jonathanview  \n",
      "1659            Juanbury  \n",
      "1690          Tiffanyton  \n",
      "2061           Millerton  \n",
      "2107      East Beckyland  \n",
      "2292           Lake Jose  \n",
      "2308       Hernandeztown  \n",
      "2719         Johnsonport  \n",
      "2737            Seanport  \n",
      "2875          Laurenbury  \n",
      "2910   South Markchester  \n",
      "2922           Banksberg  \n",
      "3176           Clarkland  \n",
      "3183         Lake Warren  \n",
      "3339   West Jenniferland  \n",
      "3467          Bensonport  \n",
      "3565   South Andrewmouth  \n",
      "3583         Andrewville  \n",
      "3667       Humphreyburgh  \n",
      "3886             Annland  \n",
      "3995           Darinview  \n",
      "4165  East Courtneymouth  \n",
      "4217         Muellerfort  \n",
      "4289         Phyllisport  \n",
      "4445        New Cheyenne  \n",
      "4570       North Anthony  \n",
      "4581     South Davidfurt  \n",
      "4884          Josephport  \n",
      "4905        South Kristy  \n",
      "4933            Mayville  \n",
      "4934   North Andrewmouth  \n",
      "5172           Port Todd  \n",
      "5187    South Robertport  \n",
      "5287         West Johnny  \n",
      "5302        Williamstown  \n"
     ]
    },
    {
     "ename": "NameError",
     "evalue": "name 'new_recoord' is not defined",
     "output_type": "error",
     "traceback": [
      "\u001b[1;31m---------------------------------------------------------------------------\u001b[0m",
      "\u001b[1;31mNameError\u001b[0m                                 Traceback (most recent call last)",
      "Cell \u001b[1;32mIn[73], line 6\u001b[0m\n\u001b[0;32m      2\u001b[0m \u001b[38;5;28mprint\u001b[39m(credit_data[(credit_data[\u001b[38;5;124m'\u001b[39m\u001b[38;5;124mAmount\u001b[39m\u001b[38;5;124m'\u001b[39m] \u001b[38;5;241m>\u001b[39m \u001b[38;5;241m4000\u001b[39m) \u001b[38;5;241m&\u001b[39m (credit_data[\u001b[38;5;124m'\u001b[39m\u001b[38;5;124mCategory\u001b[39m\u001b[38;5;124m'\u001b[39m] \u001b[38;5;241m==\u001b[39m \u001b[38;5;124m'\u001b[39m\u001b[38;5;124mClothing\u001b[39m\u001b[38;5;124m'\u001b[39m) \u001b[38;5;241m&\u001b[39m (credit_data[\u001b[38;5;124m'\u001b[39m\u001b[38;5;124mTransaction_Type\u001b[39m\u001b[38;5;124m'\u001b[39m] \u001b[38;5;241m==\u001b[39m \u001b[38;5;124m'\u001b[39m\u001b[38;5;124mOnline\u001b[39m\u001b[38;5;124m'\u001b[39m)])\n\u001b[0;32m      4\u001b[0m \u001b[38;5;66;03m# file save in csv\u001b[39;00m\n\u001b[1;32m----> 6\u001b[0m new_recoord\u001b[38;5;241m.\u001b[39mto_csv(\u001b[38;5;124m'\u001b[39m\u001b[38;5;124mnew_recoord.csv\u001b[39m\u001b[38;5;124m'\u001b[39m, index \u001b[38;5;241m=\u001b[39m \u001b[38;5;28;01mFalse\u001b[39;00m)\n",
      "\u001b[1;31mNameError\u001b[0m: name 'new_recoord' is not defined"
     ]
    }
   ],
   "source": [
    "# find amount = 2000 and category = clothes and transaction = online\n",
    "print(credit_data[(credit_data['Amount'] > 4000) & (credit_data['Category'] == 'Clothing') & (credit_data['Transaction_Type'] == 'Online')])\n",
    "\n",
    "# file save in csv\n",
    "\n",
    "new_recoord.to_csv('new_recoord.csv', index = False)"
   ]
  },
  {
   "cell_type": "code",
   "execution_count": 74,
   "id": "21d5d8b4-37d5-468f-a979-2612d423b515",
   "metadata": {},
   "outputs": [],
   "source": [
    "# file save in csv\n",
    "\n",
    "new_recoord = credit_data[(credit_data['Amount'] > 4000) & (credit_data['Category'] == 'Clothing') & (credit_data['Transaction_Type'] == 'Online')]\n",
    "\n",
    "new_recoord.to_csv('new_recoord.csv', index = False)"
   ]
  },
  {
   "cell_type": "code",
   "execution_count": null,
   "id": "475c67d8-4221-4ad9-8518-02818ae69c24",
   "metadata": {},
   "outputs": [],
   "source": []
  }
 ],
 "metadata": {
  "kernelspec": {
   "display_name": "Python 3 (ipykernel)",
   "language": "python",
   "name": "python3"
  },
  "language_info": {
   "codemirror_mode": {
    "name": "ipython",
    "version": 3
   },
   "file_extension": ".py",
   "mimetype": "text/x-python",
   "name": "python",
   "nbconvert_exporter": "python",
   "pygments_lexer": "ipython3",
   "version": "3.13.5"
  }
 },
 "nbformat": 4,
 "nbformat_minor": 5
}
