{
 "cells": [
  {
   "cell_type": "code",
   "execution_count": 1,
   "id": "b71280fb-7268-4b31-aeb8-076f89d3be3b",
   "metadata": {},
   "outputs": [],
   "source": [
    "# pandas\n",
    "# %pip install pandas \n",
    "\n",
    "import pandas as pd"
   ]
  },
  {
   "cell_type": "code",
   "execution_count": 13,
   "id": "c5917900-e540-4ab6-b7a2-40b7ce092d57",
   "metadata": {},
   "outputs": [
    {
     "name": "stdout",
     "output_type": "stream",
     "text": [
      "0 apple\n",
      "1 brinjal\n",
      "2 banana\n",
      "3 carrot\n"
     ]
    }
   ],
   "source": [
    "# series \n",
    "\n",
    "data = ['apple', 'brinjal', 'banana', 'carrot']\n",
    "\n",
    "for i in range (len(data)):\n",
    "    print(f'{i} {data[i]}')     "
   ]
  },
  {
   "cell_type": "code",
   "execution_count": 14,
   "id": "169f104c-aba6-4260-b04d-bcacc6e4bb20",
   "metadata": {},
   "outputs": [
    {
     "name": "stdout",
     "output_type": "stream",
     "text": [
      "0      apple\n",
      "1    brinjal\n",
      "2     banana\n",
      "3     carrot\n",
      "dtype: object\n",
      "-------------------------------------------------------------------------\n",
      "fruit          apple\n",
      "vegetable    brinjal\n",
      "fruit         banana\n",
      "vegetable     carrot\n",
      "dtype: object\n"
     ]
    }
   ],
   "source": [
    "data1 = pd.Series(data)\n",
    "print(data1)  \n",
    "print('-------------------------------------------------------------------------')\n",
    "indexx = ['fruit','vegetable','fruit','vegetable']     \n",
    "s = pd.Series(data, index = indexx)\n",
    "print(s)"
   ]
  },
  {
   "cell_type": "code",
   "execution_count": 19,
   "id": "d12d0b9e-7ca6-4642-9f61-a4f545ebc1ed",
   "metadata": {},
   "outputs": [
    {
     "name": "stdout",
     "output_type": "stream",
     "text": [
      "1    23.0\n",
      "2    24.0\n",
      "3    25.0\n",
      "4     NaN\n",
      "5    27.0\n",
      "6    28.0\n",
      "dtype: float64\n"
     ]
    }
   ],
   "source": [
    "import numpy as np\n",
    "\n",
    "data = [23,24,25,np.nan,27,28]\n",
    "pd.Series(data)\n"
   ]
  },
  {
   "cell_type": "code",
   "execution_count": 32,
   "id": "bc1407bc-9699-4a56-b398-ad6a9e753fab",
   "metadata": {},
   "outputs": [
    {
     "name": "stdout",
     "output_type": "stream",
     "text": [
      "['phone', 'clothes', 'cosmetics']\n",
      "-----------------------------------------------------------\n",
      "0        phone\n",
      "1      clothes\n",
      "2    cosmetics\n",
      "dtype: object\n",
      "-----------------------------------------------------------\n",
      "1        phone\n",
      "2      clothes\n",
      "3    cosmetics\n",
      "dtype: object\n"
     ]
    }
   ],
   "source": [
    "d = ['phone', 'clothes', 'cosmetics']\n",
    "s = pd.Series(d) \n",
    "print(d)\n",
    "print('-----------------------------------------------------------')\n",
    "\n",
    "print(s)\n",
    "\n",
    "print('-----------------------------------------------------------')\n",
    "index7 = [1,2,3]\n",
    "ind = pd.Series(d ,  index = index7)\n",
    "print(ind)"
   ]
  },
  {
   "cell_type": "code",
   "execution_count": null,
   "id": "53b1f127-f258-4c82-9feb-b6cb826b5599",
   "metadata": {},
   "outputs": [],
   "source": []
  }
 ],
 "metadata": {
  "kernelspec": {
   "display_name": "Python 3 (ipykernel)",
   "language": "python",
   "name": "python3"
  },
  "language_info": {
   "codemirror_mode": {
    "name": "ipython",
    "version": 3
   },
   "file_extension": ".py",
   "mimetype": "text/x-python",
   "name": "python",
   "nbconvert_exporter": "python",
   "pygments_lexer": "ipython3",
   "version": "3.13.5"
  }
 },
 "nbformat": 4,
 "nbformat_minor": 5
}
